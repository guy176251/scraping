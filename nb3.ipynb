{
 "cells": [
  {
   "cell_type": "code",
   "execution_count": 4,
   "metadata": {},
   "outputs": [
    {
     "data": {
      "text/html": [
       "<script>\n",
       "    // AUTORUN ALL CELLS ON NOTEBOOK-LOAD!\n",
       "    require(\n",
       "        ['base/js/namespace', 'jquery'], \n",
       "        function(jupyter, $) {\n",
       "            $(jupyter.events).on(\"kernel_ready.Kernel\", function () {\n",
       "                console.log(\"Auto-running all cells-below...\");\n",
       "                jupyter.actions.call('jupyter-notebook:run-all-cells-below');\n",
       "                jupyter.actions.call('jupyter-notebook:save-notebook');\n",
       "            });\n",
       "        }\n",
       "    );\n",
       "</script>\n"
      ],
      "text/plain": [
       "<IPython.core.display.HTML object>"
      ]
     },
     "metadata": {},
     "output_type": "display_data"
    }
   ],
   "source": [
    "%%html\n",
    "<script>\n",
    "    // AUTORUN ALL CELLS ON NOTEBOOK-LOAD!\n",
    "    require(\n",
    "        ['base/js/namespace', 'jquery'], \n",
    "        function(jupyter, $) {\n",
    "            $(jupyter.events).on(\"kernel_ready.Kernel\", function () {\n",
    "                console.log(\"Auto-running all cells-below...\");\n",
    "                jupyter.actions.call('jupyter-notebook:run-all-cells-below');\n",
    "                jupyter.actions.call('jupyter-notebook:save-notebook');\n",
    "            });\n",
    "        }\n",
    "    );\n",
    "</script>"
   ]
  },
  {
   "cell_type": "code",
   "execution_count": 5,
   "metadata": {},
   "outputs": [],
   "source": [
    "from __init__ import *"
   ]
  },
  {
   "cell_type": "code",
   "execution_count": 6,
   "metadata": {},
   "outputs": [],
   "source": [
    "#resps = get_all(['https://cdn.mos.cms.futurecdn.net/QjuZKXnkLQgsYsL98uhL9X-1200-80.jpg', 'https://s3.amazonaws.com/cdn-origin-etr.akc.org/wp-content/uploads/2017/11/12234558/Chinook-On-White-03.jpg', 'https://d17fnq9dkz9hgj.cloudfront.net/breed-uploads/2018/09/dog-landing-hero-lg.jpg?bust=1536935129&width=1080'])"
   ]
  },
  {
   "cell_type": "code",
   "execution_count": 7,
   "metadata": {},
   "outputs": [],
   "source": [
    "from pprint import pprint\n",
    "\n",
    "def run_async(func):\n",
    "    try:\n",
    "        loop = asyncio.get_running_loop()\n",
    "    except RuntimeError:  # if cleanup: 'RuntimeError: There is no current event loop..'\n",
    "        loop = None\n",
    "\n",
    "    if loop and loop.is_running():\n",
    "        print('Async event loop already running')\n",
    "        tsk = loop.create_task(func)\n",
    "        # ^-- https://docs.python.org/3/library/asyncio-task.html#task-object\n",
    "        tsk.add_done_callback(                                          # optional\n",
    "            lambda t: print(f'Task done: '                              # optional\n",
    "                            f'{t.result()=} << return val of main()\\n\\nlocals: {pprint(dict(globals()))}'))  # optional (using py38)\n",
    "    else:\n",
    "        print('Starting new event loop')\n",
    "        asyncio.run(main())"
   ]
  },
  {
   "cell_type": "code",
   "execution_count": 8,
   "metadata": {
    "scrolled": true
   },
   "outputs": [
    {
     "name": "stdout",
     "output_type": "stream",
     "text": [
      "Async event loop already running\n"
     ]
    }
   ],
   "source": [
    "async def test():\n",
    "    return 'done!'\n",
    "\n",
    "run_async(test())"
   ]
  },
  {
   "cell_type": "code",
   "execution_count": 9,
   "metadata": {},
   "outputs": [
    {
     "name": "stdout",
     "output_type": "stream",
     "text": [
      "hello\n",
      "there\n"
     ]
    },
    {
     "data": {
      "text/plain": [
       "'NoneNone'"
      ]
     },
     "execution_count": 9,
     "metadata": {},
     "output_type": "execute_result"
    }
   ],
   "source": [
    "(lambda: f'{print(\"hello\")}{print(\"there\")}')()"
   ]
  },
  {
   "cell_type": "code",
   "execution_count": 12,
   "metadata": {
    "scrolled": true
   },
   "outputs": [],
   "source": [
    "#f'{x = 1+1}'"
   ]
  },
  {
   "cell_type": "code",
   "execution_count": 13,
   "metadata": {},
   "outputs": [],
   "source": [
    "resps = await get_all_pages(['https://cdn.mos.cms.futurecdn.net/QjuZKXnkLQgsYsL98uhL9X-1200-80.jpg', 'https://s3.amazonaws.com/cdn-origin-etr.akc.org/wp-content/uploads/2017/11/12234558/Chinook-On-White-03.jpg', 'https://d17fnq9dkz9hgj.cloudfront.net/breed-uploads/2018/09/dog-landing-hero-lg.jpg?bust=1536935129&width=1080'])"
   ]
  },
  {
   "cell_type": "code",
   "execution_count": 14,
   "metadata": {},
   "outputs": [
    {
     "data": {
      "text/plain": [
       "[<ClientResponse(https://cdn.mos.cms.futurecdn.net/QjuZKXnkLQgsYsL98uhL9X-1200-80.jpg) [200 OK]>\n",
       " <CIMultiDictProxy('Date': 'Mon, 04 May 2020 22:28:16 GMT', 'Content-Type': 'image/jpeg', 'Content-Length': '60785', 'Connection': 'keep-alive', 'Cache-Control': 'max-age=5184000', 'Expires': 'Fri, 03 Jul 2020 22:30:13 GMT', 'Server': 'openresty/1.15.8.1', 'X-Backend': 'default', 'X-FTR-Backend': 'mos_kodiak', 'X-FTR-Backend-Server': 'kube', 'X-FTR-Balancer': 'bulkproxyprod01', 'X-FTR-Cache-Status': 'MISS', 'X-FTR-DC': 'TC', 'X-FTR-Realm': 'pip', 'X-FTR-Request-ID': '00000000:C1E4_00000000:0050_5EB096FF_CE701:1A3B', 'X-Served-By': 'kodiak-mos-adapter-varnish-fdc57966-fkvrc', 'Age': '25468', 'Accept-Ranges': 'bytes')>,\n",
       " <ClientResponse(https://s3.amazonaws.com/cdn-origin-etr.akc.org/wp-content/uploads/2017/11/12234558/Chinook-On-White-03.jpg) [200 OK]>\n",
       " <CIMultiDictProxy('x-amz-id-2': 'yZ1WeQVg66JmHQIbakrZUIoE9B2TyovjT36xN04AsopqmfG+YNwgcth9EBJKs49x3gAvU+KSUkA=', 'x-amz-request-id': 'E5E94CB61164B1A2', 'Date': 'Tue, 05 May 2020 05:32:45 GMT', 'Last-Modified': 'Tue, 13 Mar 2018 03:45:59 GMT', 'ETag': '\"4eca2451f3402979c1d523874c83c80b\"', 'Cache-Control': 'max-age=31536000', 'Expires': 'Wed, 13 Mar 2019 03:45:58 GMT', 'Accept-Ranges': 'bytes', 'Content-Type': 'image/jpeg', 'Content-Length': '25761', 'Server': 'AmazonS3')>,\n",
       " <ClientResponse(https://d17fnq9dkz9hgj.cloudfront.net/breed-uploads/2018/09/dog-landing-hero-lg.jpg?bust=1536935129&width=1080) [200 OK]>\n",
       " <CIMultiDictProxy('Content-Type': 'image/jpeg', 'Content-Length': '32817', 'Connection': 'keep-alive', 'Accept-Ranges': 'bytes', 'Last-Modified': 'Tue, 16 Oct 2018 18:50:44 GMT', 'Server': 'nginx', 'X-Frame-Options': 'SAMEORIGIN', 'Cache-Control': 'max-age=2592000', 'Date': 'Sat, 02 May 2020 04:49:01 GMT', 'ETag': '\"00836efabded939d79d00ea755e4b140\"', 'Expires': 'Mon, 01 Jun 2020 04:49:01 GMT', 'X-Cache': 'Hit from cloudfront', 'Via': '1.1 132c336717614b4e1e53e285506f67e1.cloudfront.net (CloudFront)', 'X-Amz-Cf-Pop': 'DFW55-C1', 'X-Amz-Cf-Id': 'Wh3FoZzOPfc5r-AjTq0uppENA6WEUCS8VERX5dZ_8WcOZtR2s-dB3g==', 'Age': '261823')>]"
      ]
     },
     "execution_count": 14,
     "metadata": {},
     "output_type": "execute_result"
    }
   ],
   "source": [
    "resps"
   ]
  },
  {
   "cell_type": "code",
   "execution_count": 15,
   "metadata": {},
   "outputs": [
    {
     "data": {
      "text/plain": [
       "<coroutine object ClientResponse.json at 0x7f45de50e9c0>"
      ]
     },
     "execution_count": 15,
     "metadata": {},
     "output_type": "execute_result"
    }
   ],
   "source": [
    "resps[0].json()"
   ]
  },
  {
   "cell_type": "code",
   "execution_count": 25,
   "metadata": {
    "scrolled": true
   },
   "outputs": [],
   "source": [
    "img2 = await resps[2].read()"
   ]
  },
  {
   "cell_type": "code",
   "execution_count": 28,
   "metadata": {},
   "outputs": [
    {
     "name": "stdout",
     "output_type": "stream",
     "text": [
      "Connection closed\n"
     ]
    }
   ],
   "source": [
    "from IPython.display import Image\n",
    "\n",
    "for r in resps:\n",
    "    try:\n",
    "        img = await r.read()\n",
    "        Image(img)\n",
    "    except Exception as err:\n",
    "        print(err)"
   ]
  },
  {
   "cell_type": "code",
   "execution_count": 26,
   "metadata": {},
   "outputs": [
    {
     "data": {
      "image/jpeg": "[encoded data removed]",
      "text/plain": [
       "<IPython.core.display.Image object>"
      ]
     },
     "execution_count": 26,
     "metadata": {},
     "output_type": "execute_result"
    }
   ],
   "source": [
    "Image(img2)"
   ]
  },
  {
   "cell_type": "code",
   "execution_count": 27,
   "metadata": {},
   "outputs": [
    {
     "data": {
      "text/plain": [
       "<ClientResponse(https://cdn.mos.cms.futurecdn.net/QjuZKXnkLQgsYsL98uhL9X-1200-80.jpg) [200 OK]>\n",
       "<CIMultiDictProxy('Date': 'Mon, 04 May 2020 22:28:16 GMT', 'Content-Type': 'image/jpeg', 'Content-Length': '60785', 'Connection': 'keep-alive', 'Cache-Control': 'max-age=5184000', 'Expires': 'Fri, 03 Jul 2020 22:30:13 GMT', 'Server': 'openresty/1.15.8.1', 'X-Backend': 'default', 'X-FTR-Backend': 'mos_kodiak', 'X-FTR-Backend-Server': 'kube', 'X-FTR-Balancer': 'bulkproxyprod01', 'X-FTR-Cache-Status': 'MISS', 'X-FTR-DC': 'TC', 'X-FTR-Realm': 'pip', 'X-FTR-Request-ID': '00000000:C1E4_00000000:0050_5EB096FF_CE701:1A3B', 'X-Served-By': 'kodiak-mos-adapter-varnish-fdc57966-fkvrc', 'Age': '25468', 'Accept-Ranges': 'bytes')>"
      ]
     },
     "execution_count": 27,
     "metadata": {},
     "output_type": "execute_result"
    }
   ],
   "source": [
    "resps[0]"
   ]
  },
  {
   "cell_type": "code",
   "execution_count": 29,
   "metadata": {},
   "outputs": [
    {
     "data": {
      "text/plain": [
       "<ClientResponse(https://d17fnq9dkz9hgj.cloudfront.net/breed-uploads/2018/09/dog-landing-hero-lg.jpg?bust=1536935129&width=1080) [200 OK]>\n",
       "<CIMultiDictProxy('Content-Type': 'image/jpeg', 'Content-Length': '32817', 'Connection': 'keep-alive', 'Accept-Ranges': 'bytes', 'Last-Modified': 'Tue, 16 Oct 2018 18:50:44 GMT', 'Server': 'nginx', 'X-Frame-Options': 'SAMEORIGIN', 'Cache-Control': 'max-age=2592000', 'Date': 'Sat, 02 May 2020 04:49:01 GMT', 'ETag': '\"00836efabded939d79d00ea755e4b140\"', 'Expires': 'Mon, 01 Jun 2020 04:49:01 GMT', 'X-Cache': 'Hit from cloudfront', 'Via': '1.1 132c336717614b4e1e53e285506f67e1.cloudfront.net (CloudFront)', 'X-Amz-Cf-Pop': 'DFW55-C1', 'X-Amz-Cf-Id': 'Wh3FoZzOPfc5r-AjTq0uppENA6WEUCS8VERX5dZ_8WcOZtR2s-dB3g==', 'Age': '261823')>"
      ]
     },
     "execution_count": 29,
     "metadata": {},
     "output_type": "execute_result"
    }
   ],
   "source": [
    "r"
   ]
  },
  {
   "cell_type": "code",
   "execution_count": 30,
   "metadata": {},
   "outputs": [],
   "source": [
    "urls = ['https://cdn.mos.cms.futurecdn.net/QjuZKXnkLQgsYsL98uhL9X-1200-80.jpg', 'https://s3.amazonaws.com/cdn-origin-etr.akc.org/wp-content/uploads/2017/11/12234558/Chinook-On-White-03.jpg', 'https://d17fnq9dkz9hgj.cloudfront.net/breed-uploads/2018/09/dog-landing-hero-lg.jpg?bust=1536935129&width=1080']"
   ]
  },
  {
   "cell_type": "code",
   "execution_count": 32,
   "metadata": {},
   "outputs": [
    {
     "data": {
      "text/html": [
       "<img src=\"https://cdn.mos.cms.futurecdn.net/QjuZKXnkLQgsYsL98uhL9X-1200-80.jpg\"/>"
      ],
      "text/plain": [
       "<IPython.core.display.Image object>"
      ]
     },
     "execution_count": 32,
     "metadata": {},
     "output_type": "execute_result"
    }
   ],
   "source": [
    "Image(url=urls[0])"
   ]
  },
  {
   "cell_type": "code",
   "execution_count": 36,
   "metadata": {},
   "outputs": [
    {
     "data": {
      "text/plain": [
       "'https://cdn.mos.cms.futurecdn.net/QjuZKXnkLQgsYsL98uhL9X-1200-80.jpg'"
      ]
     },
     "execution_count": 36,
     "metadata": {},
     "output_type": "execute_result"
    }
   ],
   "source": [
    "str(resps[0].url)"
   ]
  },
  {
   "cell_type": "code",
   "execution_count": null,
   "metadata": {},
   "outputs": [],
   "source": []
  }
 ],
 "metadata": {
  "kernelspec": {
   "display_name": "Python 3",
   "language": "python",
   "name": "python3"
  },
  "language_info": {
   "codemirror_mode": {
    "name": "ipython",
    "version": 3
   },
   "file_extension": ".py",
   "mimetype": "text/x-python",
   "name": "python",
   "nbconvert_exporter": "python",
   "pygments_lexer": "ipython3",
   "version": "3.8.2"
  }
 },
 "nbformat": 4,
 "nbformat_minor": 4
}
