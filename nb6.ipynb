{
 "cells": [
  {
   "cell_type": "code",
   "execution_count": 1,
   "metadata": {},
   "outputs": [
    {
     "data": {
      "text/html": [
       "<script>\n",
       "    // AUTORUN ALL CELLS ON NOTEBOOK-LOAD!\n",
       "    require(\n",
       "        ['base/js/namespace', 'jquery'], \n",
       "        function(jupyter, $) {\n",
       "            $(jupyter.events).on(\"kernel_ready.Kernel\", function () {\n",
       "                console.log(\"Auto-running all cells-below...\");\n",
       "                jupyter.actions.call('jupyter-notebook:run-all-cells-below');\n",
       "                jupyter.actions.call('jupyter-notebook:save-notebook');\n",
       "            });\n",
       "        }\n",
       "    );\n",
       "</script>\n"
      ],
      "text/plain": [
       "<IPython.core.display.HTML object>"
      ]
     },
     "metadata": {},
     "output_type": "display_data"
    }
   ],
   "source": [
    "%%html\n",
    "<script>\n",
    "    // AUTORUN ALL CELLS ON NOTEBOOK-LOAD!\n",
    "    require(\n",
    "        ['base/js/namespace', 'jquery'], \n",
    "        function(jupyter, $) {\n",
    "            $(jupyter.events).on(\"kernel_ready.Kernel\", function () {\n",
    "                console.log(\"Auto-running all cells-below...\");\n",
    "                jupyter.actions.call('jupyter-notebook:run-all-cells-below');\n",
    "                jupyter.actions.call('jupyter-notebook:save-notebook');\n",
    "            });\n",
    "        }\n",
    "    );\n",
    "</script>"
   ]
  },
  {
   "cell_type": "code",
   "execution_count": 2,
   "metadata": {},
   "outputs": [],
   "source": [
    "from scraping import *"
   ]
  },
  {
   "cell_type": "code",
   "execution_count": 6,
   "metadata": {},
   "outputs": [],
   "source": [
    "# make own bumble api\n",
    "\n",
    "import os\n",
    "import aiohttp\n",
    "from requests import Session"
   ]
  },
  {
   "cell_type": "code",
   "execution_count": 31,
   "metadata": {},
   "outputs": [],
   "source": [
    "class User:\n",
    "    def __init__(self):\n",
    "        self.session = Session()\n",
    "        self.session.headers = {\n",
    "            \"X-Desktop-web\": '1',\n",
    "            'Origin': \"https://bumble.com\",\n",
    "            'Referer': \"https://bumble.com/get-started\",\n",
    "            \"Sec-Fetch-Mode\": \"cors\",\n",
    "            \"User-Agent\": \"Mozilla/5.0 (Windows NT 6.1 WOW64) AppleWebKit/537.36 (KHTML, like Gecko) Chrome/77.0.3865.90 Safari/537.36\",\n",
    "            \"x-use-session-cookie\": '1'\n",
    "        }\n",
    "\n",
    "    def login(self, u, p):\n",
    "        return self.session.post(\n",
    "            \"https://bumble.com/mwebapi.phtml?SERVER_LOGIN_BY_PASSWORD\",\n",
    "            params={ 'SERVER_GET_USER_LIST': \"\" },\n",
    "            data={\n",
    "                \"version\": 1,\n",
    "                \"message_type\":15,\n",
    "                \"message_id\":12,\n",
    "                \"body\":[\n",
    "                    {\n",
    "                        \"message_type\":15,\n",
    "                         \"server_login_by_password\": {\n",
    "                             \"remember_me\": True,\n",
    "                             \"phone\": f'\"{u}\"',\n",
    "                             \"password\": f'\"{p}\"',\n",
    "                             \"stats_data\":\"\"\n",
    "                         }\n",
    "                    }\n",
    "                ],\n",
    "                \"is_background\":False\n",
    "            }\n",
    "        )"
   ]
  },
  {
   "cell_type": "code",
   "execution_count": 32,
   "metadata": {},
   "outputs": [],
   "source": [
    "user = User()\n",
    "resp = user.login(os.environ['bumble_user'], os.environ['bumble_pass'])"
   ]
  },
  {
   "cell_type": "code",
   "execution_count": 33,
   "metadata": {},
   "outputs": [
    {
     "data": {
      "text/plain": [
       "200"
      ]
     },
     "execution_count": 33,
     "metadata": {},
     "output_type": "execute_result"
    }
   ],
   "source": [
    "resp.status_code"
   ]
  },
  {
   "cell_type": "code",
   "execution_count": 34,
   "metadata": {},
   "outputs": [
    {
     "data": {
      "text/plain": [
       "{'$gpb': 'badoo.bma.BadooMessage',\n",
       " 'message_type': 124,\n",
       " 'version': 0,\n",
       " 'message_id': 0,\n",
       " 'object_type': 74,\n",
       " 'body': [{'$gpb': 'badoo.bma.MessageBody',\n",
       "   'server_error_message': {'$gpb': 'badoo.bma.ServerErrorMessage',\n",
       "    'error_code': '1',\n",
       "    'error_message': 'Session not found (0030-3001-0051)',\n",
       "    'error_id': '0030-3001-0051',\n",
       "    'error_eta': 455,\n",
       "    'type': 0},\n",
       "   'message_type': 124}],\n",
       " 'responses_count': 1,\n",
       " 'vhost': ''}"
      ]
     },
     "execution_count": 34,
     "metadata": {},
     "output_type": "execute_result"
    }
   ],
   "source": [
    "resp.json()"
   ]
  },
  {
   "cell_type": "code",
   "execution_count": 29,
   "metadata": {},
   "outputs": [
    {
     "data": {
      "text/plain": [
       "{'X-Desktop-web': '1', 'Origin': 'https://bumble.com', 'Referer': 'https://bumble.com/get-started', 'Sec-Fetch-Mode': 'cors', 'User-Agent': 'Mozilla/5.0 (Windows NT 6.1 WOW64) AppleWebKit/537.36 (KHTML, like Gecko) Chrome/77.0.3865.90 Safari/537.36', 'x-use-session-cookie': '1', 'Content-Length': '107', 'Content-Type': 'application/x-www-form-urlencoded'}"
      ]
     },
     "execution_count": 29,
     "metadata": {},
     "output_type": "execute_result"
    }
   ],
   "source": [
    "resp.request.headers"
   ]
  },
  {
   "cell_type": "code",
   "execution_count": 30,
   "metadata": {},
   "outputs": [
    {
     "data": {
      "text/plain": [
       "'version=1&message_type=15&message_id=12&body=message_type&body=server_login_by_password&is_background=False'"
      ]
     },
     "execution_count": 30,
     "metadata": {},
     "output_type": "execute_result"
    }
   ],
   "source": [
    "resp.request.body"
   ]
  },
  {
   "cell_type": "code",
   "execution_count": 37,
   "metadata": {},
   "outputs": [
    {
     "data": {
      "text/plain": [
       "{'Server': 'nginx', 'Date': 'Fri, 15 May 2020 19:36:39 GMT', 'Content-Type': 'application/json', 'Content-Length': '374', 'Connection': 'keep-alive', 'X-Local-Host': 'wwwbma153', 'X-BMA-Server': 'wwwbma153', 'X-User-id': '', 'X-AllowAsyncRequests': '1', 'Set-Cookie': 'HDR-X-User-id=; path=/; domain=.bumble.com; Secure;, session=s2:9999:s4dGHe45oNzM16xC6na5bUtYui884MCjXat4F9iQ; path=/; domain=.bumble.com; Secure; HttpOnly; Expires=Sat, 15-May-21 19:36:39 GMT; Max-Age=31536000;, session_cookie_name=session; path=/; domain=.bumble.com; Secure; Expires=Sat, 15-May-21 19:36:39 GMT; Max-Age=31536000;', 'Access-Control-Allow-Origin': 'https://bumble.com', 'Access-Control-Allow-Methods': 'GET, POST, OPTIONS, HEAD', 'Access-Control-Allow-Headers': 'Content-Type, X-Requested-With, Origin, X-Webapp-Build, X-Use-Session-Cookie, X-User-Agent, X-User-id, X-App-Version, X-Message-type, X-Desktop-web, X-Coca-Proxy-Host, X-Coca-Served-By, X-DPhotos-Mtime, X-Photo-Modifiers', 'Access-Control-Allow-Credentials': 'true', 'Access-Control-Expose-Headers': 'Content-Type, X-Requested-With, Origin, X-Webapp-Build, X-Use-Session-Cookie, X-User-Agent, X-User-id, X-App-Version, X-Message-type, X-Desktop-web, X-Coca-Proxy-Host, X-Coca-Served-By, X-DPhotos-Mtime, X-Photo-Modifiers', 'Access-Control-Max-Age': '3600', 'Timing-Allow-Origin': 'https://bumble.com', 'X-Mapi-Endpoint': 'mwebapi'}"
      ]
     },
     "execution_count": 37,
     "metadata": {},
     "output_type": "execute_result"
    }
   ],
   "source": [
    "resp.headers"
   ]
  },
  {
   "cell_type": "code",
   "execution_count": null,
   "metadata": {},
   "outputs": [],
   "source": []
  }
 ],
 "metadata": {
  "kernelspec": {
   "display_name": "Python 3",
   "language": "python",
   "name": "python3"
  },
  "language_info": {
   "codemirror_mode": {
    "name": "ipython",
    "version": 3
   },
   "file_extension": ".py",
   "mimetype": "text/x-python",
   "name": "python",
   "nbconvert_exporter": "python",
   "pygments_lexer": "ipython3",
   "version": "3.8.2"
  }
 },
 "nbformat": 4,
 "nbformat_minor": 4
}
