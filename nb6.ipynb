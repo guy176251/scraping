{
 "cells": [
  {
   "cell_type": "code",
   "execution_count": null,
   "metadata": {},
   "outputs": [],
   "source": [
    "%%html\n",
    "<script>\n",
    "    // AUTORUN ALL CELLS ON NOTEBOOK-LOAD!\n",
    "    require(\n",
    "        ['base/js/namespace', 'jquery'], \n",
    "        function(jupyter, $) {\n",
    "            $(jupyter.events).on(\"kernel_ready.Kernel\", function () {\n",
    "                console.log(\"Auto-running all cells-below...\");\n",
    "                jupyter.actions.call('jupyter-notebook:run-all-cells-below');\n",
    "                jupyter.actions.call('jupyter-notebook:save-notebook');\n",
    "            });\n",
    "        }\n",
    "    );\n",
    "</script>"
   ]
  },
  {
   "cell_type": "code",
   "execution_count": null,
   "metadata": {},
   "outputs": [],
   "source": [
    "from scraping import *"
   ]
  },
  {
   "cell_type": "code",
   "execution_count": null,
   "metadata": {},
   "outputs": [],
   "source": [
    "# make own bumble api\n",
    "\n",
    "import os\n",
    "import aiohttp\n",
    "from requests import Session"
   ]
  },
  {
   "cell_type": "code",
   "execution_count": null,
   "metadata": {},
   "outputs": [],
   "source": [
    "class User:\n",
    "    def __init__(self):\n",
    "        self.session = Session()\n",
    "        self.session.headers = {\n",
    "            \"X-Desktop-web\": '1',\n",
    "            'Origin': \"https://bumble.com\",\n",
    "            'Referer': \"https://bumble.com/get-started\",\n",
    "            \"Sec-Fetch-Mode\": \"cors\",\n",
    "            \"User-Agent\": \"Mozilla/5.0 (Windows NT 6.1 WOW64) AppleWebKit/537.36 (KHTML, like Gecko) Chrome/77.0.3865.90 Safari/537.36\",\n",
    "            \"x-use-session-cookie\": '1'\n",
    "        }\n",
    "\n",
    "    def login(self, u, p):\n",
    "        return self.session.post(\n",
    "            \"https://bumble.com/mwebapi.phtml?SERVER_LOGIN_BY_PASSWORD\",\n",
    "            params={ 'SERVER_GET_USER_LIST': \"\" },\n",
    "            data={\n",
    "                \"version\": 1,\n",
    "                \"message_type\":15,\n",
    "                \"message_id\":12,\n",
    "                \"body\":[\n",
    "                    {\n",
    "                        \"message_type\":15,\n",
    "                         \"server_login_by_password\": {\n",
    "                             \"remember_me\": True,\n",
    "                             \"phone\": f'\"{u}\"',\n",
    "                             \"password\": f'\"{p}\"',\n",
    "                             \"stats_data\":\"\"\n",
    "                         }\n",
    "                    }\n",
    "                ],\n",
    "                \"is_background\":False\n",
    "            }\n",
    "        )"
   ]
  },
  {
   "cell_type": "code",
   "execution_count": null,
   "metadata": {},
   "outputs": [],
   "source": [
    "user = User()\n",
    "resp = user.login(os.environ['bumble_user'], os.environ['bumble_pass'])"
   ]
  },
  {
   "cell_type": "code",
   "execution_count": null,
   "metadata": {},
   "outputs": [],
   "source": [
    "resp.status_code"
   ]
  },
  {
   "cell_type": "code",
   "execution_count": null,
   "metadata": {},
   "outputs": [],
   "source": [
    "resp.json()"
   ]
  },
  {
   "cell_type": "code",
   "execution_count": null,
   "metadata": {},
   "outputs": [],
   "source": [
    "resp.request.headers"
   ]
  },
  {
   "cell_type": "code",
   "execution_count": null,
   "metadata": {},
   "outputs": [],
   "source": [
    "resp.request.body"
   ]
  },
  {
   "cell_type": "code",
   "execution_count": null,
   "metadata": {},
   "outputs": [],
   "source": [
    "resp.headers"
   ]
  },
  {
   "cell_type": "code",
   "execution_count": null,
   "metadata": {},
   "outputs": [],
   "source": []
  }
 ],
 "metadata": {
  "kernelspec": {
   "display_name": "Python 3",
   "language": "python",
   "name": "python3"
  },
  "language_info": {
   "codemirror_mode": {
    "name": "ipython",
    "version": 3
   },
   "file_extension": ".py",
   "mimetype": "text/x-python",
   "name": "python",
   "nbconvert_exporter": "python",
   "pygments_lexer": "ipython3",
   "version": "3.8.2"
  }
 },
 "nbformat": 4,
 "nbformat_minor": 4
}
